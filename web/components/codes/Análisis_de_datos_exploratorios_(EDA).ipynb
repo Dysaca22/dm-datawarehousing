{
  "nbformat": 4,
  "nbformat_minor": 0,
  "metadata": {
    "colab": {
      "provenance": [],
      "collapsed_sections": [
        "YejmtQbseOeh",
        "P2H-gSRccxEH",
        "IPLIEXmOLCM-",
        "4eCCJviweEWD",
        "fh3cgd4HE9yV"
      ]
    },
    "kernelspec": {
      "name": "python3",
      "display_name": "Python 3"
    },
    "language_info": {
      "name": "python"
    }
  },
  "cells": [
    {
      "cell_type": "markdown",
      "source": [
        "# **ANÁLISIS EXPLORATORIO DE DATOS (EDA)**"
      ],
      "metadata": {
        "id": "yaglBksBqXmD"
      }
    },
    {
      "cell_type": "markdown",
      "source": [
        "## CONFIGURACIÓN INICIAL"
      ],
      "metadata": {
        "id": "YejmtQbseOeh"
      }
    },
    {
      "cell_type": "markdown",
      "source": [
        "Librerías"
      ],
      "metadata": {
        "id": "0IaVrgySbPoM"
      }
    },
    {
      "cell_type": "code",
      "execution_count": 1,
      "metadata": {
        "id": "5WxSkGQRbGpX"
      },
      "outputs": [],
      "source": [
        "from plotly.subplots import make_subplots\n",
        "from collections import defaultdict\n",
        "import plotly.graph_objects as go\n",
        "from plotly.offline import plot\n",
        "from datetime import datetime\n",
        "import plotly.express as px\n",
        "import pandas as pd\n",
        "import numpy as np"
      ]
    },
    {
      "cell_type": "markdown",
      "source": [
        "Lectura de datos"
      ],
      "metadata": {
        "id": "wuyqQHRObV0a"
      }
    },
    {
      "cell_type": "code",
      "source": [
        "df = pd.read_csv('/content/Casos_positivos_de_COVID-19_en_Colombia._20240910.csv')"
      ],
      "metadata": {
        "colab": {
          "base_uri": "https://localhost:8080/"
        },
        "id": "kbq5t_ACbVRW",
        "outputId": "18dab133-dc95-4f00-dcb8-68cfaf1e155c"
      },
      "execution_count": 2,
      "outputs": [
        {
          "output_type": "stream",
          "name": "stderr",
          "text": [
            "<ipython-input-2-56230ce0af5d>:1: DtypeWarning:\n",
            "\n",
            "Columns (14) have mixed types. Specify dtype option on import or set low_memory=False.\n",
            "\n"
          ]
        }
      ]
    },
    {
      "cell_type": "markdown",
      "source": [
        "## RESUMEN DE DATOS"
      ],
      "metadata": {
        "id": "P2H-gSRccxEH"
      }
    },
    {
      "cell_type": "code",
      "source": [
        "def detectar_valores_similares(df, columna):\n",
        "    valor = df[columna].dropna().unique()\n",
        "    valor_lower = [m.lower() for m in valor]\n",
        "\n",
        "    similares = defaultdict(list)\n",
        "    for i, v in enumerate(valor):\n",
        "        for j, otro_v in enumerate(valor):\n",
        "            if i != j and v.lower() == otro_v.lower():\n",
        "                similares[v.lower()].append(v)\n",
        "                similares[v.lower()].append(otro_v)\n",
        "\n",
        "    return {k: list(set(v)) for k, v in similares.items()}"
      ],
      "metadata": {
        "id": "szAquvDEGE4Z"
      },
      "execution_count": 3,
      "outputs": []
    },
    {
      "cell_type": "code",
      "source": [
        "def analizar_datos_covid(df):\n",
        "    num_registros = df.shape[0]\n",
        "    num_columnas = len(df.columns)\n",
        "    departamentos = df['Nombre departamento'].nunique()\n",
        "    municipios = df['Nombre municipio'].nunique()\n",
        "    columnas = df.columns.tolist()\n",
        "    tipos_datos = df.dtypes.to_dict()\n",
        "\n",
        "    datos_faltantes = df.isnull().sum()\n",
        "    proporcion_faltantes = (datos_faltantes / num_registros) * 100\n",
        "\n",
        "    info_df = f\"Cantidad de registros: {num_registros}\\n\"\n",
        "    info_df += f\"Cantidad de columnas: {num_columnas}\\n\"\n",
        "    info_df += f\"\\nCantidad de departamentos: {departamentos}\\n\"\n",
        "    info_df += f\"Cantidad de municipios: {municipios}\\n\\n\"\n",
        "    info_df += \"Columnas (tipo dato, datos faltantes):\\n\"\n",
        "    for columna in columnas:\n",
        "        if tipos_datos[columna] == 'object':\n",
        "            info_df += f\"  - {columna}: string | {proporcion_faltantes[columna]:.2f}%\\n\"\n",
        "        else:\n",
        "            info_df += f\"  - {columna}: {tipos_datos[columna]} | {proporcion_faltantes[columna]:.2f}%\\n\"\n",
        "\n",
        "    # Verificar inconsistencias en fechas\n",
        "    if 'fecha reporte web' in df.columns and 'fecha de notificacion' in df.columns:\n",
        "        df['fecha reporte web'] = pd.to_datetime(df['fecha reporte web'], errors='coerce')\n",
        "        df['fecha de notificacion'] = pd.to_datetime(df['fecha de notificacion'], errors='coerce')\n",
        "        inconsistencias_fechas = (df['fecha reporte web'] < df['fecha de notificacion']).sum()\n",
        "        info_df += f\"\\nInconsistencias en fechas (reporte < notificación): {inconsistencias_fechas}\\n\"\n",
        "\n",
        "    # Verificar fechas futuras\n",
        "    fecha_actual = datetime.now()\n",
        "    df['fecha reporte web'] = pd.to_datetime(df['fecha reporte web'], errors='coerce')\n",
        "    if 'fecha reporte web' in df.columns:\n",
        "        fechas_futuras = (df['fecha reporte web'] > fecha_actual).sum()\n",
        "        info_df += f\"Fechas de reporte en el futuro: {fechas_futuras}\\n\"\n",
        "\n",
        "    # Verificar valores atípicos en la edad\n",
        "    if 'Edad' in df.columns:\n",
        "        q1 = df['Edad'].quantile(0.25)\n",
        "        q3 = df['Edad'].quantile(0.75)\n",
        "        iqr = q3 - q1\n",
        "        lower_bound = q1 - (1.5 * iqr)\n",
        "        upper_bound = q3 + (1.5 * iqr)\n",
        "        atipicos_edad = ((df['Edad'] < lower_bound) | (df['Edad'] > upper_bound)).sum()\n",
        "        info_df += f\"\\nValores atípicos en Edad ]{q1}, {q3}[: {atipicos_edad}\\n\"\n",
        "\n",
        "    # Verificar edades imposibles\n",
        "    edades_imposibles = ((df['Edad'] < 0) | (df['Edad'] > 120)).sum()\n",
        "    info_df += f\"Edades imposibles ]0, 120[: {edades_imposibles}\\n\"\n",
        "\n",
        "    registros_por_sexo = df['Sexo'].value_counts().to_dict()\n",
        "    registros_por_tipo_contagio = df['Tipo de contagio'].value_counts().to_dict()\n",
        "\n",
        "    info_df += \"Registros por sexo:\\n\"\n",
        "\n",
        "    for sexo, count in registros_por_sexo.items():\n",
        "        info_df += f\"  - {sexo}: {count}\\n\"\n",
        "\n",
        "    info_df += \"\\nRegistros por tipo de contagio:\\n\"\n",
        "    for tipo_contagio, count in registros_por_tipo_contagio.items():\n",
        "        info_df += f\"  - {tipo_contagio}: {count}\\n\"\n",
        "\n",
        "    # Detectar municipios con nombres similares (diferencias en mayúsculas/minúsculas)\n",
        "    municipios_similares = detectar_valores_similares(df, 'Nombre municipio')\n",
        "    if municipios_similares:\n",
        "        info_df += \"\\nMunicipios con nombres similares (diferencias en mayúsculas/minúsculas):\\n\"\n",
        "        for nombre_lower, variantes in municipios_similares.items():\n",
        "            info_df += f\"  - {nombre_lower}: {', '.join(variantes)}\\n\"\n",
        "\n",
        "    # Detectar departamentos con nombres similares (diferencias en mayúsculas/minúsculas)\n",
        "    departamentos_similares = detectar_valores_similares(df, 'Nombre departamento')\n",
        "    if departamentos_similares:\n",
        "        info_df += \"\\nDepartamentos con nombres similares (diferencias en mayúsculas/minúsculas):\\n\"\n",
        "        for nombre_lower, variantes in departamentos_similares.items():\n",
        "            info_df += f\"  - {nombre_lower}: {', '.join(variantes)}\\n\"\n",
        "\n",
        "    # Verificar inconsistencias entre estado y fecha de muerte\n",
        "    if 'Estado' in df.columns and 'Fecha de muerte' in df.columns:\n",
        "        inconsistencias_muerte = ((df['Estado'] == 'Fallecido') & (df['Fecha de muerte'].isnull())).sum()\n",
        "        info_df += f\"\\nFallecidos sin fecha de muerte: {inconsistencias_muerte}\\n\"\n",
        "\n",
        "        inconsistencias_vivos = ((df['Estado'] != 'Fallecido') & (df['Fecha de muerte'].notnull())).sum()\n",
        "        info_df += f\"No fallecidos con fecha de muerte: {inconsistencias_vivos}\\n\"\n",
        "\n",
        "    # Verificar inconsistencias en el tipo de recuperación\n",
        "    if 'Tipo de recuperación' in df.columns and 'Estado' in df.columns:\n",
        "        inconsistencias_recuperacion = ((df['Estado'] == 'Recuperado') & (df['Tipo de recuperación'].isnull())).sum()\n",
        "        info_df += f\"Recuperados sin tipo de recuperación: {inconsistencias_recuperacion}\\n\"\n",
        "\n",
        "    # Verificar duplicados\n",
        "    duplicados = df.duplicated().sum()\n",
        "    info_df += f\"\\nRegistros duplicados: {duplicados}\\n\"\n",
        "\n",
        "    # Verificar consistencia entre tipo de contagio y país de procedencia\n",
        "    if 'Tipo de contagio' in df.columns and 'País de procedencia' in df.columns:\n",
        "        inconsistencias_procedencia = ((df['Tipo de contagio'] == 'Importado') & (df['País de procedencia'].isnull())).sum()\n",
        "        info_df += f\"Casos importados sin país de procedencia: {inconsistencias_procedencia}\\n\"\n",
        "\n",
        "    return info_df"
      ],
      "metadata": {
        "id": "8NrvvLRLCHLQ"
      },
      "execution_count": 4,
      "outputs": []
    },
    {
      "cell_type": "code",
      "source": [
        "# Guardar el resumen actualizado\n",
        "with open('/content/drive/MyDrive/Maestría Ingeniería de Sistemas/Semestre I/Minería de Datos/Compromisos/Homework #2/Resumen de datos.txt', 'w') as f:\n",
        "  f.write(analizar_datos_covid(df))"
      ],
      "metadata": {
        "id": "d3h8oCuh-cH3"
      },
      "execution_count": 5,
      "outputs": []
    },
    {
      "cell_type": "markdown",
      "source": [
        "## VISUALIZACIONES"
      ],
      "metadata": {
        "id": "IPLIEXmOLCM-"
      }
    },
    {
      "cell_type": "code",
      "source": [
        "# Colores y configuración de estilo\n",
        "colores_paleta = {\n",
        "    'primary_100': '#6B5B95',\n",
        "    'primary_200': '#4B4068',\n",
        "    'primary_300': '#E1DDEB',\n",
        "    'accent_100': '#FF7F11',\n",
        "    'accent_200': '#BE5800',\n",
        "    'text_100': '#333333',\n",
        "    'text_200': '#424242',\n",
        "    'bg_100': '#E6E6FA',\n",
        "    'bg_200': '#D2D2F6',\n",
        "    'bg_300': '#FFFFFF'\n",
        "}\n",
        "\n",
        "# Resto del código\n",
        "def preparar_datos(df):\n",
        "    fecha_columnas = ['fecha reporte web', 'Fecha de inicio de síntomas', 'Fecha de recuperación', 'Fecha de muerte']\n",
        "    for col in fecha_columnas:\n",
        "        if col in df.columns:\n",
        "            df[col] = pd.to_datetime(df[col], errors='coerce')\n",
        "\n",
        "    df['fecha_fin'] = df['Fecha de recuperación'].fillna(df['Fecha de muerte'])\n",
        "    df['Dias en UCI'] = (df['fecha_fin'] - df['Fecha de inicio de síntomas']).dt.days\n",
        "    df = df[df['Dias en UCI'].between(0, 365)]\n",
        "\n",
        "    return df\n",
        "\n",
        "def crear_visualizaciones_covid(df):\n",
        "    df = preparar_datos(df)\n",
        "    visualizaciones = []\n",
        "\n",
        "    # 1. Evolución temporal de casos\n",
        "    fig_casos = px.line(df.groupby('fecha reporte web').size().reset_index(name='Casos'),\n",
        "                        x='fecha reporte web', y='Casos')\n",
        "    # fig_casos.update_traces(line_color=colores_paleta['primary_200'])\n",
        "    visualizaciones.append([fig_casos, 'Evolución temporal de casos de COVID-19'])\n",
        "\n",
        "    # 2. Distribución de casos por edad\n",
        "    fig_edad = px.histogram(df, x='Edad', nbins=20)\n",
        "    visualizaciones.append([fig_edad, 'Distribución de casos por edad'])\n",
        "\n",
        "    # 3. Casos por departamento (top 10)\n",
        "    casos_por_depto = df['Nombre departamento'].value_counts().nlargest(10)\n",
        "    fig_depto = px.bar(x=casos_por_depto.index, y=casos_por_depto.values)\n",
        "    visualizaciones.append([fig_depto, 'Top 10 departamentos con más casos'])\n",
        "\n",
        "    # 4. Proporción de casos por tipo de contagio\n",
        "    fig_tipo_contagio = px.pie(df, names='Tipo de contagio',\n",
        "                               color_discrete_sequence=[colores_paleta['primary_100'], colores_paleta['accent_100']])\n",
        "    visualizaciones.append([fig_tipo_contagio, 'Proporción de casos por tipo de contagio'])\n",
        "\n",
        "    # 5. Evolución temporal de casos por estado\n",
        "    df_estado = df.groupby(['fecha reporte web', 'Estado']).size().unstack(fill_value=0)\n",
        "    fig_estado = px.area(df_estado)\n",
        "    visualizaciones.append([fig_estado, 'Evolución temporal de casos por estado'])\n",
        "\n",
        "    # 6. Boxplot de edad por estado\n",
        "    fig_edad_estado = px.box(df, x='Estado', y='Edad')\n",
        "    visualizaciones.append([fig_edad_estado, 'Distribución de edad por estado'])\n",
        "\n",
        "    # 7. Casos por día de la semana\n",
        "    df['dia_semana'] = df['fecha reporte web'].dt.dayofweek\n",
        "    casos_por_dia_semana = df.groupby('dia_semana').size()\n",
        "    fig_dia_semana = px.bar(x=casos_por_dia_semana.index, y=casos_por_dia_semana.values,\n",
        "                             labels={'x': 'Día de la semana', 'y': 'Número de casos'})\n",
        "    visualizaciones.append([fig_dia_semana, 'Casos por día de la semana'])\n",
        "\n",
        "    # 8. Scatter plot de Edad vs Días en UCI\n",
        "    fig_scatter = px.scatter(df, x='Edad', y='Dias en UCI', color='Estado')\n",
        "    visualizaciones.append([fig_scatter, 'Relación entre Edad y Días en UCI (calculado)'])\n",
        "\n",
        "    # 9. Casos acumulados vs. Nuevos casos diarios\n",
        "    df_daily = df.groupby('fecha reporte web').size().reset_index(name='Nuevos_casos')\n",
        "    df_daily['Casos_acumulados'] = df_daily['Nuevos_casos'].cumsum()\n",
        "    fig_acumulados = px.scatter(df_daily, x='Casos_acumulados', y='Nuevos_casos',\n",
        "                                labels={'Casos_acumulados': 'Casos acumulados', 'Nuevos_casos': 'Nuevos casos diarios'})\n",
        "    visualizaciones.append([fig_acumulados, 'Casos acumulados vs. Nuevos casos diarios'])\n",
        "\n",
        "    # 10. Pirámide poblacional de casos\n",
        "    df_piramide = df.groupby(['Sexo', pd.cut(df['Edad'], bins=range(0, 101, 10))]).size().unstack(level=0)\n",
        "    fig_piramide = go.Figure()\n",
        "    for sexo in df_piramide.columns:\n",
        "        fig_piramide.add_trace(go.Bar(\n",
        "            y=df_piramide.index.astype(str),\n",
        "            x=df_piramide[sexo] if sexo == 'M' else -df_piramide[sexo],\n",
        "            name=sexo,\n",
        "            orientation='h'\n",
        "        ))\n",
        "    fig_piramide.update_layout(barmode='relative',\n",
        "                               bargap=0.1,\n",
        "                               bargroupgap=0)\n",
        "    visualizaciones.append([fig_piramide, 'Pirámide poblacional de casos de COVID-19'])\n",
        "\n",
        "    return visualizaciones\n",
        "\n",
        "def guardar_visualizaciones_individual(visualizaciones, carpeta='graficas'):\n",
        "    import os\n",
        "    if not os.path.exists(carpeta):\n",
        "        os.makedirs(carpeta)\n",
        "\n",
        "    for i, fig in enumerate(visualizaciones, 1):\n",
        "        nombre_archivo = os.path.join(carpeta, fig[1])\n",
        "        plot(fig[0], filename=nombre_archivo, auto_open=False)\n",
        "        print(f\"Gráfico {i} guardado en {nombre_archivo}\")\n",
        "\n",
        "# Uso de las funciones\n",
        "visualizaciones = crear_visualizaciones_covid(df)\n",
        "guardar_visualizaciones_individual(visualizaciones)\n"
      ],
      "metadata": {
        "colab": {
          "base_uri": "https://localhost:8080/"
        },
        "id": "blOIbCwJLEaU",
        "outputId": "30111352-a27c-4d20-cacc-397cf69c092a"
      },
      "execution_count": 6,
      "outputs": [
        {
          "output_type": "stream",
          "name": "stderr",
          "text": [
            "/usr/local/lib/python3.10/dist-packages/_plotly_utils/basevalidators.py:105: FutureWarning:\n",
            "\n",
            "The behavior of DatetimeProperties.to_pydatetime is deprecated, in a future version this will return a Series containing python datetime objects instead of an ndarray. To retain the old behavior, call `np.array` on the result\n",
            "\n",
            "/usr/local/lib/python3.10/dist-packages/_plotly_utils/basevalidators.py:105: FutureWarning:\n",
            "\n",
            "The behavior of DatetimeProperties.to_pydatetime is deprecated, in a future version this will return a Series containing python datetime objects instead of an ndarray. To retain the old behavior, call `np.array` on the result\n",
            "\n",
            "<ipython-input-6-7bc8e5754c75>:62: SettingWithCopyWarning:\n",
            "\n",
            "\n",
            "A value is trying to be set on a copy of a slice from a DataFrame.\n",
            "Try using .loc[row_indexer,col_indexer] = value instead\n",
            "\n",
            "See the caveats in the documentation: https://pandas.pydata.org/pandas-docs/stable/user_guide/indexing.html#returning-a-view-versus-a-copy\n",
            "\n",
            "<ipython-input-6-7bc8e5754c75>:80: FutureWarning:\n",
            "\n",
            "The default of observed=False is deprecated and will be changed to True in a future version of pandas. Pass observed=False to retain current behavior or observed=True to adopt the future default and silence this warning.\n",
            "\n",
            "/usr/local/lib/python3.10/dist-packages/plotly/offline/offline.py:562: UserWarning:\n",
            "\n",
            "Your filename `graficas/Evolución temporal de casos de COVID-19` didn't end with .html. Adding .html to the end of your file.\n",
            "\n",
            "/usr/local/lib/python3.10/dist-packages/plotly/offline/offline.py:562: UserWarning:\n",
            "\n",
            "Your filename `graficas/Distribución de casos por edad` didn't end with .html. Adding .html to the end of your file.\n",
            "\n"
          ]
        },
        {
          "output_type": "stream",
          "name": "stdout",
          "text": [
            "Gráfico 1 guardado en graficas/Evolución temporal de casos de COVID-19\n",
            "Gráfico 2 guardado en graficas/Distribución de casos por edad\n",
            "Gráfico 3 guardado en graficas/Top 10 departamentos con más casos\n"
          ]
        },
        {
          "output_type": "stream",
          "name": "stderr",
          "text": [
            "/usr/local/lib/python3.10/dist-packages/plotly/offline/offline.py:562: UserWarning:\n",
            "\n",
            "Your filename `graficas/Top 10 departamentos con más casos` didn't end with .html. Adding .html to the end of your file.\n",
            "\n",
            "/usr/local/lib/python3.10/dist-packages/plotly/offline/offline.py:562: UserWarning:\n",
            "\n",
            "Your filename `graficas/Proporción de casos por tipo de contagio` didn't end with .html. Adding .html to the end of your file.\n",
            "\n"
          ]
        },
        {
          "output_type": "stream",
          "name": "stdout",
          "text": [
            "Gráfico 4 guardado en graficas/Proporción de casos por tipo de contagio\n",
            "Gráfico 5 guardado en graficas/Evolución temporal de casos por estado\n"
          ]
        },
        {
          "output_type": "stream",
          "name": "stderr",
          "text": [
            "/usr/local/lib/python3.10/dist-packages/plotly/offline/offline.py:562: UserWarning:\n",
            "\n",
            "Your filename `graficas/Evolución temporal de casos por estado` didn't end with .html. Adding .html to the end of your file.\n",
            "\n",
            "/usr/local/lib/python3.10/dist-packages/plotly/offline/offline.py:562: UserWarning:\n",
            "\n",
            "Your filename `graficas/Distribución de edad por estado` didn't end with .html. Adding .html to the end of your file.\n",
            "\n"
          ]
        },
        {
          "output_type": "stream",
          "name": "stdout",
          "text": [
            "Gráfico 6 guardado en graficas/Distribución de edad por estado\n",
            "Gráfico 7 guardado en graficas/Casos por día de la semana\n"
          ]
        },
        {
          "output_type": "stream",
          "name": "stderr",
          "text": [
            "/usr/local/lib/python3.10/dist-packages/plotly/offline/offline.py:562: UserWarning:\n",
            "\n",
            "Your filename `graficas/Casos por día de la semana` didn't end with .html. Adding .html to the end of your file.\n",
            "\n",
            "/usr/local/lib/python3.10/dist-packages/plotly/offline/offline.py:562: UserWarning:\n",
            "\n",
            "Your filename `graficas/Relación entre Edad y Días en UCI (calculado)` didn't end with .html. Adding .html to the end of your file.\n",
            "\n"
          ]
        },
        {
          "output_type": "stream",
          "name": "stdout",
          "text": [
            "Gráfico 8 guardado en graficas/Relación entre Edad y Días en UCI (calculado)\n",
            "Gráfico 9 guardado en graficas/Casos acumulados vs. Nuevos casos diarios\n",
            "Gráfico 10 guardado en graficas/Pirámide poblacional de casos de COVID-19\n"
          ]
        },
        {
          "output_type": "stream",
          "name": "stderr",
          "text": [
            "/usr/local/lib/python3.10/dist-packages/plotly/offline/offline.py:562: UserWarning:\n",
            "\n",
            "Your filename `graficas/Casos acumulados vs. Nuevos casos diarios` didn't end with .html. Adding .html to the end of your file.\n",
            "\n",
            "/usr/local/lib/python3.10/dist-packages/plotly/offline/offline.py:562: UserWarning:\n",
            "\n",
            "Your filename `graficas/Pirámide poblacional de casos de COVID-19` didn't end with .html. Adding .html to the end of your file.\n",
            "\n"
          ]
        }
      ]
    },
    {
      "cell_type": "markdown",
      "source": [
        "## LIMPIEZA DE DATOS"
      ],
      "metadata": {
        "id": "4eCCJviweEWD"
      }
    },
    {
      "cell_type": "markdown",
      "source": [
        "Selección de columnas relevantes"
      ],
      "metadata": {
        "id": "EZ7N1VQngsRt"
      }
    },
    {
      "cell_type": "code",
      "source": [
        "df_limpieza = df[['fecha reporte web', 'ID de caso', 'Fecha de notificación',\n",
        "       'Código DIVIPOLA departamento', 'Nombre departamento',\n",
        "       'Código DIVIPOLA municipio', 'Nombre municipio', 'Edad',\n",
        "       'Unidad de medida de edad', 'Sexo', 'Tipo de contagio',\n",
        "       'Ubicación del caso', 'Estado', 'Recuperado', 'Fecha de inicio de síntomas',\n",
        "       'Fecha de muerte', 'Fecha de diagnóstico', 'Fecha de recuperación',\n",
        "       'Tipo de recuperación']].copy()"
      ],
      "metadata": {
        "id": "rDBTdDUsen3-"
      },
      "execution_count": 7,
      "outputs": []
    },
    {
      "cell_type": "markdown",
      "source": [
        "Renombramiento de columnas"
      ],
      "metadata": {
        "id": "PcSwrmo2guod"
      }
    },
    {
      "cell_type": "code",
      "source": [
        "df_limpieza.rename(columns={\n",
        "    'ID de caso': 'id',\n",
        "    'fecha reporte web': 'fecha_reporte_web',\n",
        "    'Fecha de notificación': 'fecha_notificacion',\n",
        "    'Código DIVIPOLA departamento': 'cod_departamento',\n",
        "    'Nombre departamento': 'departamento',\n",
        "    'Código DIVIPOLA municipio': 'cod_municipio',\n",
        "    'Nombre municipio': 'municipio',\n",
        "    'Edad': 'edad',\n",
        "    'Unidad de medida de edad': 'unidad_medida_edad',\n",
        "    'Sexo': 'sexo',\n",
        "    'Tipo de contagio': 'tipo_contagio',\n",
        "    'Ubicación del caso': 'ubicacion_caso',\n",
        "    'Estado': 'estado',\n",
        "    'Recuperado': 'recuperado',\n",
        "    'Fecha de inicio de síntomas': 'fecha_inicio_sintomas',\n",
        "    'Fecha de muerte': 'fecha_muerte',\n",
        "    'Fecha de diagnóstico': 'fecha_diagnostico',\n",
        "    'Fecha de recuperación': 'fecha_recuperacion',\n",
        "    'Tipo de recuperación': 'tipo_recuperacion'\n",
        "}, inplace=True)"
      ],
      "metadata": {
        "id": "NaXAFg6ne5k0"
      },
      "execution_count": 8,
      "outputs": []
    },
    {
      "cell_type": "markdown",
      "source": [
        "Reordenamiento de columnas"
      ],
      "metadata": {
        "id": "M6UniF9whRIN"
      }
    },
    {
      "cell_type": "code",
      "source": [
        "new_column_order = [\n",
        "    'id', 'fecha_reporte_web', 'fecha_notificacion',\n",
        "    'fecha_inicio_sintomas', 'fecha_muerte',\n",
        "    'fecha_diagnostico', 'fecha_recuperacion',\n",
        "    'cod_departamento', 'departamento', 'cod_municipio',\n",
        "    'municipio', 'ubicacion_caso', 'edad',\n",
        "    'unidad_medida_edad', 'sexo', 'tipo_contagio',\n",
        "    'estado', 'recuperado', 'tipo_recuperacion',\n",
        "]\n",
        "df_limpieza = df_limpieza[new_column_order]"
      ],
      "metadata": {
        "id": "_1E7ZVSngxse"
      },
      "execution_count": 9,
      "outputs": []
    },
    {
      "cell_type": "markdown",
      "source": [
        "Tipo de datos"
      ],
      "metadata": {
        "id": "2Xm6bkY1vHcN"
      }
    },
    {
      "cell_type": "code",
      "source": [
        "df_limpieza = df_limpieza.astype({\n",
        "    'id': 'string',\n",
        "    'fecha_reporte_web': 'datetime64[ns]',\n",
        "    'fecha_notificacion': 'datetime64[ns]',\n",
        "    'fecha_inicio_sintomas': 'datetime64[ns]',\n",
        "    'fecha_muerte': 'datetime64[ns]',\n",
        "    'fecha_diagnostico': 'datetime64[ns]',\n",
        "    'fecha_recuperacion': 'datetime64[ns]',\n",
        "    'cod_departamento': 'int64',\n",
        "    'departamento': 'string',\n",
        "    'cod_municipio': 'int64',\n",
        "    'municipio': 'string',\n",
        "    'ubicacion_caso': 'string',\n",
        "    'edad': 'int64',\n",
        "    'unidad_medida_edad': 'string',\n",
        "    'sexo': 'string',\n",
        "    'tipo_contagio': 'string',\n",
        "    'estado': 'string',\n",
        "    'recuperado': 'string',\n",
        "    'tipo_recuperacion': 'string'\n",
        "})"
      ],
      "metadata": {
        "id": "czOSiVoLvJOq"
      },
      "execution_count": 10,
      "outputs": []
    },
    {
      "cell_type": "markdown",
      "source": [
        "Normalizar de valores tipo string"
      ],
      "metadata": {
        "id": "f9KSsCxvigEw"
      }
    },
    {
      "cell_type": "code",
      "source": [
        "import unicodedata\n",
        "\n",
        "def normalize_text(text, type='upper'):\n",
        "  \"\"\"Normaliza el texto eliminando tildes, caracteres especiales y capitalizando.\"\"\"\n",
        "  if isinstance(text, str):\n",
        "    text = unicodedata.normalize('NFKD', text).encode('ASCII', 'ignore').decode('ASCII')\n",
        "    if type == 'upper':\n",
        "      text = text.upper()\n",
        "    elif type == 'lower':\n",
        "      text = text.lower()\n",
        "    elif type == 'title':\n",
        "      text = text.title()\n",
        "    return text\n",
        "  return text\n",
        "\n",
        "df_limpieza['departamento'] = df_limpieza['departamento'].apply(lambda x: normalize_text(x))\n",
        "df_limpieza['municipio'] = df_limpieza['municipio'].apply(lambda x: normalize_text(x))\n",
        "df_limpieza['sexo'] = df_limpieza['sexo'].apply(lambda x: normalize_text(x))\n",
        "df_limpieza['ubicacion_caso'] = df_limpieza['ubicacion_caso'].apply(lambda x: normalize_text(x, 'title'))\n",
        "df_limpieza['estado'] = df_limpieza['estado'].apply(lambda x: normalize_text(x, 'title'))\n",
        "df_limpieza['recuperado'] = df_limpieza['recuperado'].apply(lambda x: normalize_text(x, 'title'))\n",
        "df_limpieza['tipo_recuperacion'] = df_limpieza['tipo_recuperacion'].apply(lambda x: normalize_text(x))"
      ],
      "metadata": {
        "id": "_mi720Cqhm00"
      },
      "execution_count": 11,
      "outputs": []
    },
    {
      "cell_type": "markdown",
      "source": [
        "## IMPUTACIÓN DE DATOS"
      ],
      "metadata": {
        "id": "fh3cgd4HE9yV"
      }
    },
    {
      "cell_type": "markdown",
      "source": [
        "Fechas nulas posibles de imputar"
      ],
      "metadata": {
        "id": "ZibMh3RjFbLr"
      }
    },
    {
      "cell_type": "code",
      "source": [
        "df_limpieza['fecha_diagnostico'].fillna(df_limpieza['fecha_reporte_web'], inplace=True)"
      ],
      "metadata": {
        "id": "G9vttkDjx-4R"
      },
      "execution_count": 12,
      "outputs": []
    },
    {
      "cell_type": "markdown",
      "source": [
        "Imputación por moda"
      ],
      "metadata": {
        "id": "5zQtgaeYIAh0"
      }
    },
    {
      "cell_type": "code",
      "source": [
        "categorical_columns = ['ubicacion_caso', 'tipo_recuperacion']\n",
        "for column in categorical_columns:\n",
        "    mode_value = df_limpieza[column].mode()[0]\n",
        "    df_limpieza[column].fillna(mode_value, inplace=True)"
      ],
      "metadata": {
        "id": "fAsYkn8NIAQv"
      },
      "execution_count": 13,
      "outputs": []
    },
    {
      "cell_type": "markdown",
      "source": [
        "Casos especiales"
      ],
      "metadata": {
        "id": "WOd1-ztRIGY1"
      }
    },
    {
      "cell_type": "code",
      "source": [
        "df_limpieza['recuperado'] = np.where(\n",
        "    df_limpieza['fecha_recuperacion'].notnull(), 'Recuperado',\n",
        "    np.where(df_limpieza['fecha_muerte'].notnull(), 'Fallecido', 'Activo')\n",
        ")\n",
        "\n",
        "moda_estado = df_limpieza['estado'].mode()[0]\n",
        "df_limpieza['estado'] = np.where(\n",
        "    df_limpieza['fecha_muerte'].notnull(), 'Fallecido',\n",
        "    np.where(\n",
        "        df_limpieza['estado'].isnull(), moda_estado,\n",
        "        df_limpieza['estado']\n",
        "    )\n",
        ")"
      ],
      "metadata": {
        "id": "6jMCbPSgGZol"
      },
      "execution_count": 14,
      "outputs": []
    },
    {
      "cell_type": "markdown",
      "source": [
        "## INFORME"
      ],
      "metadata": {
        "id": "KrnmHmXeIiY-"
      }
    },
    {
      "cell_type": "markdown",
      "source": [
        "Se realizó un análisis descriptivo inicial del conjunto de datos para obtener una visión general de su contenido. Esto incluyó:\n",
        "\n",
        "\n",
        "*   Cantidad de registros y columnas.\n",
        "*   Tipos de datos de cada columna.\n",
        "*   Cantidad de departamentos y municipios.\n",
        "*   Identificación de valores faltantes.\n",
        "*   Detección de inconsistencias en fechas (fechas de reporte anteriores a fechas de notificación, fechas futuras).\n",
        "*   Detección de valores atípicos en la edad (edades fuera del rango intercuartil, edades imposibles).\n",
        "*   Análisis de la distribución de casos por sexo y tipo de contagio.\n",
        "*   Detección de posibles duplicados.\n",
        "*   Identificación de inconsistencias entre estado del paciente y fecha de muerte o tipo de recuperación.\n",
        "\n",
        "\n",
        "Posteriormente, se crearon diversos gráficos para comprender mejor los patrones y tendencias en los datos. Las visualizaciones generadas fueron:\n",
        "\n",
        "\n",
        "*   **Evolución temporal de casos**: cantidad de casos de COVID-19 a lo largo del tiempo. Se utiliza un gráfico de líneas para representar la tendencia de los casos a lo largo de las fechas de reporte. Permite identificar periodos con picos de contagios y la evolución general de la pandemia.\n",
        "*   **Distribución de casos por edad**: histograma que muestra la distribución de los casos de COVID-19 según la edad de los pacientes. Permite identificar los grupos de edad más afectados por la enfermedad y analizar la distribución de la edad en la población contagiada.\n",
        "*   **Casos por departamento (top 10)**: gráfico de barras que muestra los 10 departamentos con mayor número de casos de COVID-19. Permite identificar las zonas geográficas con mayor incidencia de la enfermedad y focalizar esfuerzos en áreas específicas.\n",
        "*   **Proporción de casos por tipo de contagio**: un gráfico circular que muestra la proporción de casos de COVID-19 según el tipo de contagio (importado, relacionado, en estudio, etc.). Permite entender cómo se propaga la enfermedad en la población y la importancia relativa de cada tipo de contagio.\n",
        "*   **Evolución temporal de casos por estado**: un gráfico de área que muestra la evolución temporal de los casos de COVID-19 según el estado del paciente (recuperado, fallecido, activo). Permite observar la progresión de la enfermedad en el tiempo y la proporción de pacientes en cada estado.\n",
        "*   **Gráfico de caja de edad por estado**: un diagrama de caja que muestra la distribución de la edad de los pacientes según su estado (recuperado, fallecido, activo). Permite comparar la distribución de la edad entre los diferentes estados e identificar posibles diferencias significativas.\n",
        "*   **Casos por día de la semana**: gráfico de barras para mostrar la distribución de casos de COVID-19 según el día de la semana. Este gráfico permite identificar si existe algún patrón o tendencia en la cantidad de casos reportados en diferentes días de la semana.\n",
        "*   **Gráfico de dispersión de Edad vs días enfermo (calculado)**: gráfico de dispersión que muestra la relación entre la edad de los pacientes y los días que pasaron bajo observación antes de recuperación o muerte. Permite identificar si existe una correlación entre la edad y la gravedad de la enfermedad, representada por días de incapacidad.\n",
        "*   **Casos acumulados vs. Nuevos casos diarios**: gráfico de dispersión que muestra la relación entre los casos acumulados y los nuevos casos diarios de COVID-19. Permite analizar la tendencia de la pandemia y si se está produciendo un aumento o disminución en la velocidad de propagación.\n",
        "*   **Pirámide poblacional de casos de COVID-19**: gráfico de pirámide poblacional que muestra la distribución de casos de COVID-19 por sexo y grupos de edad. Permite analizar la distribución de la enfermedad en la población y comparar la afectación entre hombres y mujeres en diferentes grupos de edad.\n",
        "\n",
        "\n",
        "Se realizó un proceso de limpieza de datos para preparar el conjunto de datos para su posterior análisis. Este proceso incluyó:\n",
        "\n",
        "\n",
        "*   Selección de columnas relevantes: se seleccionaron las columnas que se consideraron más relevantes para el análisis y que cuentan con un gran porcentaje de valores no nulos.\n",
        "*   Renombramiento de columnas: se renombraron las columnas para que tuvieran nombres más concisos y fáciles de usar en el análisis.\n",
        "*   Reordenamiento de columnas: se reordenaron las columnas para que tuvieran un orden más lógico.\n",
        "*   Conversión de tipos de datos: se aseguraron de que todas las columnas tuvieran el tipo de datos correcto.\n",
        "*   Normalización de valores de texto: se normalizaron los valores de texto en las columnas de tipo string para eliminar tildes, caracteres especiales y asegurar la consistencia en la capitalización. Debido a que los datos presentaban errores de ingreso de información por caracteres diferentes.\n",
        "\n",
        "\n",
        "Finalmente, se utilizaron diferentes métodos de imputación para manejar los valores faltantes en el conjunto de datos.\n",
        "\n",
        "\n",
        "\n",
        "*   **Imputación por fecha de reporte**: se imputaron las fechas de diagnóstico faltantes utilizando la fecha de reporte web, asumiendo que el la fecha de reporte coicidia con la fecha en que el paciente fue diagnisticado con COVID-19.\n",
        "*   **Imputación por moda**: para las variables categóricas `ubicacion_caso` y `tipo_recuperacion`, se utilizó la moda para imputar los valores faltantes. La imputación por moda es una técnica simple y comúnmente utilizada para variables categóricas, especialmente cuando la moda representa una proporción significativa de los datos.\n",
        "*   **Imputación deductiva**: se imputaron los valores de las columnas recuperado y estado utilizando la información disponible en otras columnas, como las fechas de muerte y recuperación. En base al conocimiento del campo y las relaciones lógicas entre las variables, se planteo una imputación consistente con la realidad."
      ],
      "metadata": {
        "id": "_v2PxBJRJw86"
      }
    }
  ]
}